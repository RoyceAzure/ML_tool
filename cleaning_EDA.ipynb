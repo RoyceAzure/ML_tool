{
 "cells": [
  {
   "cell_type": "code",
   "execution_count": null,
   "metadata": {},
   "outputs": [],
   "source": [
    "import matplotlib.pyplot as plt\n",
    "import seaborn as sns\n",
    "import matplotlib.gridspec as gridspec\n",
    "from sklearn.impute import SimpleImputer\n",
    "%matplotlib inline"
   ]
  },
  {
   "cell_type": "markdown",
   "metadata": {},
   "source": [
    "# 資料清洗"
   ]
  },
  {
   "cell_type": "code",
   "execution_count": null,
   "metadata": {},
   "outputs": [],
   "source": [
    "\"\"\"\n",
    "欄位所表達的資訊是否符合其資料型態  比如說應該用樹值表示卻變成object\n",
    "檢查缺失值是否用np.nan表示\n",
    "\"\"\""
   ]
  },
  {
   "cell_type": "code",
   "execution_count": null,
   "metadata": {},
   "outputs": [],
   "source": [
    "# Replace all occurrences of Not Available with numpy not a number\n",
    "data = data.replace({'Not Available': np.nan})\n",
    "\n",
    "# Iterate through the columns\n",
    "for col in list(data.columns):\n",
    "    # Select columns that should be numeric\n",
    "    if ('ft²' in col or 'kBtu' in col or 'Metric Tons CO2e' in col or 'kWh' in \n",
    "        col or 'therms' in col or 'gal' in col or 'Score' in col):\n",
    "        # Convert the data type to float\n",
    "        data[col] = data[col].astype(float)"
   ]
  },
  {
   "cell_type": "code",
   "execution_count": null,
   "metadata": {},
   "outputs": [],
   "source": [
    "\"\"\"\n",
    "資料缺失大於50% 的直接去掉  救不回來\n",
    "\"\"\"\n",
    "\n",
    "# Get the columns with > 50% missing\n",
    "missing_df = missing_values_table(data);\n",
    "missing_columns = list(missing_df[missing_df['% of Total Values'] > 50].index)\n",
    "print('We will remove %d columns.' % len(missing_columns))"
   ]
  },
  {
   "cell_type": "code",
   "execution_count": null,
   "metadata": {},
   "outputs": [],
   "source": [
    "\"\"\"\n",
    "把 某col 為null 的單drop, 返回得都是有該col 的欄位\n",
    "\"\"\"\n",
    "data.dropna(subset=['score'])"
   ]
  },
  {
   "cell_type": "code",
   "execution_count": null,
   "metadata": {},
   "outputs": [],
   "source": [
    "\"\"\"\n",
    "使用SimpleImputer\n",
    "單一series 缺失職填充\n",
    "注意只能用於numeric data\n",
    "注意填充完會是float64 type\n",
    "\n",
    "\"\"\"\n",
    "def SimpleImputer_one_sol(df, col_name, s = \"median\"):\n",
    "    imp = SimpleImputer(missing_values=np.nan, strategy = s)\n",
    "    new_data = imp.fit_transform(df[col_name].values.reshape(-1,1))\n",
    "    df[col_name] = new_data\n",
    "    return df"
   ]
  },
  {
   "cell_type": "markdown",
   "metadata": {},
   "source": [
    "## 離群點"
   ]
  },
  {
   "cell_type": "code",
   "execution_count": null,
   "metadata": {},
   "outputs": [],
   "source": [
    "\"\"\"\n",
    "直接觀看\n",
    "data['Site EUI (kBtu/ft²)'].dropna().sort_values().tail(10)\n",
    "\"\"\"\n",
    "data['Site EUI (kBtu/ft²)'].describe()"
   ]
  },
  {
   "cell_type": "markdown",
   "metadata": {},
   "source": [
    "\n",
    "### 剔除离群点\n",
    "\n",
    "离群点的选择可能需要再斟酌一些，这里选择的方法是extreme outlier。\n",
    "\n",
    "*   $\\text{First Quartile} -3 * \\text{Interquartile Range}$\n",
    "*   $\\text{Third Quartile} + 3 * \\text{Interquartile Range}$"
   ]
  },
  {
   "cell_type": "code",
   "execution_count": null,
   "metadata": {},
   "outputs": [],
   "source": [
    "\"\"\"\n",
    "剔除單一col的離群點 c = 1.5 or 3\n",
    "\"\"\"\n",
    "def remove_outliners(data, col, c):\n",
    "    first_quartile = data[col].describe()['25%']\n",
    "    third_quartile = data[col].describe()['75%']\n",
    "#     print(first_quartile)\n",
    "#     print(third_quartile)\n",
    "    # Interquartile range\n",
    "    iqr = third_quartile - first_quartile\n",
    "#     print(iqr)\n",
    "    # Remove outliers\n",
    "    data = data[(data[col] > (first_quartile - c * iqr)) &\n",
    "                (data[col] < (third_quartile + c * iqr))]\n",
    "#     print(data)\n",
    "    return data"
   ]
  },
  {
   "cell_type": "markdown",
   "metadata": {},
   "source": [
    "# 資料缺失"
   ]
  },
  {
   "cell_type": "code",
   "execution_count": null,
   "metadata": {},
   "outputs": [],
   "source": [
    "# msno.bar(my_train)  #cabin and age col 都有缺失\n",
    "msno.matrix(my_all_data,\n",
    "            figsize = (16,7),\n",
    "            width_ratios = (15,1)\n",
    "           )\n",
    "# msno.heatmap(my_train)   #缺失之間並沒有相關性"
   ]
  },
  {
   "cell_type": "code",
   "execution_count": null,
   "metadata": {},
   "outputs": [],
   "source": [
    "# Function to calculate missing values by column\n",
    "def missing_values_table(df):\n",
    "        # Total missing values\n",
    "        mis_val = df.isnull().sum()\n",
    "        \n",
    "        # Percentage of missing values\n",
    "        mis_val_percent = 100 * df.isnull().sum() / len(df)\n",
    "        \n",
    "        # Make a table with the results\n",
    "        mis_val_table = pd.concat([mis_val, mis_val_percent], axis=1)\n",
    "        \n",
    "        # Rename the columns\n",
    "        mis_val_table_ren_columns = mis_val_table.rename(\n",
    "        columns = {0 : 'Missing Values', 1 : '% of Total Values'})\n",
    "        \n",
    "        # Sort the table by percentage of missing descending\n",
    "        mis_val_table_ren_columns = mis_val_table_ren_columns[\n",
    "            mis_val_table_ren_columns.iloc[:,1] != 0].sort_values(\n",
    "        '% of Total Values', ascending=False).round(1)\n",
    "        \n",
    "        # Print some summary information\n",
    "        print (\"Your selected dataframe has \" + str(df.shape[1]) + \" columns.\\n\"      \n",
    "            \"There are \" + str(mis_val_table_ren_columns.shape[0]) +\n",
    "              \" columns that have missing values.\")\n",
    "        \n",
    "        # Return the dataframe with missing information\n",
    "        return mis_val_table_ren_columns"
   ]
  },
  {
   "cell_type": "markdown",
   "metadata": {},
   "source": [
    "# 圖形化展示特徵 EDA"
   ]
  },
  {
   "cell_type": "code",
   "execution_count": null,
   "metadata": {},
   "outputs": [],
   "source": [
    "\"\"\"\n",
    "單變量展示  建議先檢查Y\n",
    "\"\"\"\n",
    "def show_one_col(data,col):\n",
    "    figsize(8, 8)\n",
    "    # Histogram of the Energy Star Score\n",
    "    plt.style.use('fivethirtyeight')\n",
    "    plt.hist(data[col].dropna(), bins = 100, edgecolor = 'k');\n",
    "    plt.xlabel('Score'); plt.ylabel(\"count of {}\".format(col)); \n",
    "    plt.title(col);"
   ]
  },
  {
   "cell_type": "code",
   "execution_count": null,
   "metadata": {},
   "outputs": [],
   "source": [
    "\"\"\"\n",
    "用一離散特徵當類別  連續特徵當Y值  查看連續特徵的離群點\n",
    "\"\"\"\n",
    "def box_des_con(data, col_des, col_conti):\n",
    "    fig = sns.boxplot(x = col_des, y = col_conti, data = data)\n",
    "    fig.axis(ymin = data[col_conti].min(), ymax = data[col_conti].max())\n"
   ]
  },
  {
   "cell_type": "code",
   "execution_count": 1,
   "metadata": {},
   "outputs": [],
   "source": [
    "\"\"\"\n",
    "看單一Col裡面所有離散值 對Y的影響  分布越不規則  表示該特徵越重要 \n",
    "\"\"\"\n",
    "def one_col_feature_to_Y(data, col, target, threshold = 100):\n",
    "    types = data.dropna(subset=[target])\n",
    "    types = types[col].value_counts()\n",
    "    types = list(types[types.values > threshold].index)\n",
    "    figsize(12, 10)\n",
    "\n",
    "    # Plot each building\n",
    "    for b_type in types:\n",
    "        # Select the building type\n",
    "        subset = data[data[col] == b_type]\n",
    "\n",
    "        # Density plot of Energy Star scores\n",
    "        sns.kdeplot(subset[target].dropna(),\n",
    "                   label = b_type, shade = False, alpha = 0.8);\n",
    "\n",
    "    # label the plot\n",
    "    plt.xlabel(target, size = 20); plt.ylabel('Density', size = 20); \n",
    "    plt.title('Density Plot of {} by {}'.format(target,col), size = 28);"
   ]
  },
  {
   "cell_type": "code",
   "execution_count": null,
   "metadata": {},
   "outputs": [],
   "source": [
    "\"\"\"\n",
    "將數值資料做非線性變換  cat資料做one hot, 測試跟Y的相關性會不會提升\n",
    "注意cat 欄位的塞選\n",
    "correlations, features = EDA_transform_test_data(data, ['Borough', 'Largest Property Use Type'], \"score\")\n",
    "\"\"\"\n",
    "def EDA_transform_test_data(data, catagory_cols, target):\n",
    "    numeric_subset = data.select_dtypes('number')\n",
    "\n",
    "# Create columns with square root and log of numeric columns\n",
    "    for col in numeric_subset.columns:\n",
    "        # Skip the Energy Star Score column\n",
    "        if col == target:\n",
    "            next\n",
    "        else:\n",
    "            numeric_subset['sqrt_' + col] = np.sqrt(numeric_subset[col])\n",
    "            numeric_subset['log_' + col] = np.log(numeric_subset[col])\n",
    "\n",
    "    # Select the categorical columns\n",
    "    categorical_subset = data[catagory_cols]\n",
    "\n",
    "    # One hot encode\n",
    "    categorical_subset = pd.get_dummies(categorical_subset)\n",
    "\n",
    "    # Join the two dataframes using concat\n",
    "    # Make sure to use axis = 1 to perform a column bind\n",
    "    features = pd.concat([numeric_subset, categorical_subset], axis = 1)\n",
    "\n",
    "    # Drop buildings without an energy star score\n",
    "    features = features.dropna(subset = [target])\n",
    "\n",
    "    # Find correlations with the score \n",
    "    correlations = features.corr()[target].dropna().sort_values()\n",
    "    return correlations, features"
   ]
  },
  {
   "cell_type": "code",
   "execution_count": null,
   "metadata": {},
   "outputs": [],
   "source": [
    "\"\"\"\n",
    "雙變數展示\n",
    "\"\"\"\n",
    "figsize(12, 10)\n",
    "\n",
    "# Extract the building types\n",
    "features['Largest Property Use Type'] = data.dropna(subset = ['score'])['Largest Property Use Type']\n",
    "\n",
    "# Limit to building types with more than 100 observations (from previous code)\n",
    "features = features[features['Largest Property Use Type'].isin(types)]\n",
    "\n",
    "# Use seaborn to plot a scatterplot of Score vs Log Source EUI\n",
    "sns.lmplot('Site EUI (kBtu/ft²)', 'score', \n",
    "          hue = 'Largest Property Use Type', data = features,\n",
    "          scatter_kws = {'alpha': 0.8, 's': 60}, fit_reg = False,\n",
    "          size = 12, aspect = 1.2);\n",
    "\n",
    "# Plot labeling\n",
    "plt.xlabel(\"Site EUI\", size = 28)\n",
    "plt.ylabel('Energy Star Score', size = 28)\n",
    "plt.title('Energy Star Score vs Site EUI', size = 36);"
   ]
  },
  {
   "cell_type": "code",
   "execution_count": null,
   "metadata": {},
   "outputs": [],
   "source": [
    "\"\"\"\n",
    "pair_plot\n",
    "\"\"\"\n",
    "# Extract the columns to  plot\n",
    "plot_data = features[['score', 'Site EUI (kBtu/ft²)', \n",
    "                      'Weather Normalized Source EUI (kBtu/ft²)', \n",
    "                      'log_Total GHG Emissions (Metric Tons CO2e)']]\n",
    "\n",
    "# Replace the inf with nan\n",
    "plot_data = plot_data.replace({np.inf: np.nan, -np.inf: np.nan})\n",
    "\n",
    "# Rename columns \n",
    "plot_data = plot_data.rename(columns = {'Site EUI (kBtu/ft²)': 'Site EUI', \n",
    "                                        'Weather Normalized Source EUI (kBtu/ft²)': 'Weather Norm EUI',\n",
    "                                        'log_Total GHG Emissions (Metric Tons CO2e)': 'log GHG Emissions'})\n",
    "\n",
    "# Drop na values\n",
    "plot_data = plot_data.dropna()\n",
    "\n",
    "# Function to calculate correlation coefficient between two columns\n",
    "def corr_func(x, y, **kwargs):\n",
    "    r = np.corrcoef(x, y)[0][1]\n",
    "    ax = plt.gca()\n",
    "    ax.annotate(\"r = {:.2f}\".format(r),\n",
    "                xy=(.2, .8), xycoords=ax.transAxes,\n",
    "                size = 20)\n",
    "\n",
    "# Create the pairgrid object\n",
    "grid = sns.PairGrid(data = plot_data, size = 3)\n",
    "\n",
    "# Upper is a scatter plot\n",
    "grid.map_upper(plt.scatter, color = 'red', alpha = 0.6)\n",
    "\n",
    "# Diagonal is a histogram\n",
    "grid.map_diag(plt.hist, color = 'red', edgecolor = 'black')\n",
    "\n",
    "# Bottom is correlation and density plot\n",
    "grid.map_lower(corr_func);\n",
    "grid.map_lower(sns.kdeplot, cmap = plt.cm.Reds)\n",
    "\n",
    "# Title for entire plot\n",
    "plt.suptitle('Pairs Plot of Energy Data', size = 36, y = 1.02);"
   ]
  }
 ],
 "metadata": {
  "kernelspec": {
   "display_name": "Python 3",
   "language": "python",
   "name": "python3"
  },
  "language_info": {
   "codemirror_mode": {
    "name": "ipython",
    "version": 3
   },
   "file_extension": ".py",
   "mimetype": "text/x-python",
   "name": "python",
   "nbconvert_exporter": "python",
   "pygments_lexer": "ipython3",
   "version": "3.7.6"
  }
 },
 "nbformat": 4,
 "nbformat_minor": 4
}
